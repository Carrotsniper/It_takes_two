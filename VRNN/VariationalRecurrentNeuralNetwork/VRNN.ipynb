{
 "cells": [
  {
   "cell_type": "code",
   "execution_count": 3,
   "metadata": {},
   "outputs": [],
   "source": [
    "import math\n",
    "import torch\n",
    "import torch.nn as nn\n",
    "import torch.utils\n",
    "import torch.utils.data\n",
    "from torchvision import datasets, transforms\n",
    "from torch.autograd import Variable\n",
    "import matplotlib.pyplot as plt"
   ]
  },
  {
   "cell_type": "code",
   "execution_count": 4,
   "metadata": {},
   "outputs": [],
   "source": [
    "device = torch.device(\"cuda\" if torch.cuda.is_available() else 'cpu')\n",
    "EPS = torch.finfo(torch.float).eps # Numerical logs"
   ]
  },
  {
   "cell_type": "code",
   "execution_count": 5,
   "metadata": {},
   "outputs": [],
   "source": [
    "class VRNN(nn.Module):\n",
    "    def __init__(self, x_dim, h_dim, z_dim, n_layers, bias = False):\n",
    "        super(VRNN, self).__init__()\n",
    "        \n",
    "        self.x_dim = x_dim\n",
    "        self.h_dim = h_dim\n",
    "        self.z_dim = z_dim\n",
    "        self.n_layers = n_layers\n",
    "        \n",
    "        # Feature extraction transformations (对应原文公式(7) 和 (9))\n",
    "        # 这里首先需要将输入的x_data 进行embedding\n",
    "        self.phi_x = nn.Sequential(\n",
    "                    nn.Linear(x_dim, h_dim),\n",
    "                    nn.ReLU(),\n",
    "                    nn.Linear(h_dim, h_dim),\n",
    "                    nn.ReLU())\n",
    "        \n",
    "        # 这里对应原文公式的 (6) 和 (7), 将z进行embedding\n",
    "        self.phi_z = nn.Sequential(\n",
    "                    nn.Linear(z_dim, h_dim),\n",
    "                    nn.ReLU())\n",
    "            \n",
    "        \n",
    "        # Encoder 这里对隐藏层的均值和方差进行提取\n",
    "        # 对应原文的公式(9), 第一个 h_dim 对应 x_data 数据, 第二个 h_dim 对应的是 h_[t-1]\n",
    "        self.enc = nn.Sequential(\n",
    "                    nn.Linear(h_dim + h_dim, h_dim),\n",
    "                    nn.ReLU(),\n",
    "                    nn.Linear(h_dim, h_dim),\n",
    "                    nn.ReLU())\n",
    "        \n",
    "        # 对应公式 (9), 从encoder中获取 均值 和 方差\n",
    "        self.enc_mean = nn.Linear(h_dim, z_dim)\n",
    "        self.enc_std = nn.Sequential(\n",
    "                    nn.Linear(h_dim, z_dim),\n",
    "                    nn.Softplus())\n",
    "        \n",
    "        # Prior 对先验进行定义并且抽取先验的均值和方差\n",
    "        # 这里对应了公式(5), h_dim 对应的是 h_[t-1], 获取先验的 均值 和 方差\n",
    "        self.prior = nn.Sequential(\n",
    "                    nn.Linear(h_dim, h_dim),\n",
    "                    nn.ReLU())\n",
    "        self.prior_mean = nn.Linear(h_dim, z_dim)\n",
    "        self.prior_std = nn.Sequential(\n",
    "                    nn.Linear(h_dim, z_dim),\n",
    "                    nn.Softplus())\n",
    "        \n",
    "        # Decoder, 对应原文公式(6)\n",
    "        # 第一个 h_dim 对应的是 Prior 的embedding, 第二个 h_dim 对应的是 h_[t-1]\n",
    "        self.dec = nn.Sequential(\n",
    "                    nn.Linear(h_dim + h_dim, h_dim),\n",
    "                    nn.ReLU(),\n",
    "                    nn.Linear(h_dim, h_dim),\n",
    "                    nn.ReLU())\n",
    "        # 获取decoder 的 均值 和 方差\n",
    "        self.dec_std = nn.Sequential(\n",
    "                    nn.Linear(h_dim, x_dim),\n",
    "                    nn.Softplus())\n",
    "        self.dec_mean = nn.Sequential(\n",
    "                    nn.Linear(h_dim, x_dim),\n",
    "                    nn.Sigmoid())\n",
    "        \n",
    "        # Recurrence, 对应原文公式(7), 使用 RNN （GRU）来封装时间序列特征\n",
    "        # 第一个 h_dim 对应的是 x_data 的embedding, 第二个 h_dim 对应的是 z 的embedding, \n",
    "        # 第三个 h_dim 对应的是 h_[t-1]\n",
    "        self.rnn = nn.GRU(h_dim + h_dim, h_dim, n_layers, bias)\n",
    "    \n",
    "    # x: torch.Size([28, 8, 28]) ([时间步，batch，特征])\n",
    "    # 简单来说，时间步就是咱们公式里面的 timestep t\n",
    "    def forward(self, x):\n",
    "        all_enc_mean, all_enc_std = [], []\n",
    "        all_dec_mean, all_dec_std = [], []\n",
    "        kld_loss = 0\n",
    "        nll_loss = 0\n",
    "        \n",
    "        # 初始化hidden state， RNN的层数， batch的大小， 隐藏层的维度\n",
    "        h = torch.zeros(self.n_layers, x.size(1), self.h_dim, device=device)\n",
    "        \n",
    "        # 输入数据的格式是(num_data, feature_dim)\n",
    "        # 遍历每一个time_step\n",
    "        for t in range(x.size(0)):\n",
    "            \n",
    "            # ----------------------------------------------------------------------------------- #\n",
    "            # ----------------------------------------------------------------------------------- #\n",
    "\n",
    "            # 对应原文公式 (7) 的第一部分\n",
    "            # 这里先对输入的数据x在每一个 time step 进行线性层包装\n",
    "            phi_x_t = self.phi_x(x[t])\n",
    "            \n",
    "            # 调用 Encoder 部分\n",
    "            # 对应公式(9)，phi_x_t (第一部分); h[-1] (对应的是h 的第三个维度，也就是 h_dim)\n",
    "            # 并且得到均值和方差\n",
    "            enc_t = self.enc(torch.cat([phi_x_t, h[-1]], 1))\n",
    "            enc_mean_t = self.enc_mean(enc_t)\n",
    "            enc_std_t = self.enc_std(enc_t)\n",
    "\n",
    "            # Sampling and reparameterization\n",
    "            # 从encoder 中的方差和均值 使用 重参数化技巧进行采样， 这里面的 z 是从encoder 的数据中采样得到的\n",
    "            z_t = self._reparameterized_sample(enc_mean_t, enc_std_t)\n",
    "            # 对应公式 (6) 的第一部分\n",
    "            phi_z_t = self.phi_z(z_t)\n",
    "\n",
    "            # ----------------------------------------------------------------------------------- #\n",
    "            # ----------------------------------------------------------------------------------- #\n",
    "\n",
    "            # Prior\n",
    "            # 对应公式(5), 得到先验标准Gaussian Distribution 的均值和方差\n",
    "            # (对应的是h 的第三个维度，也就是 h_dim)，这里面的 z 是从上一个 hidden state 中 encode 出来的\n",
    "            # ^_^ 现在出现了两个 z 哦，一个是采样来的，一个是从隐状态得到的~s\n",
    "            prior_t = self.prior(h[-1])\n",
    "            prior_mean_t = self.prior_mean(prior_t)\n",
    "            prior_std_t = self.prior_std(prior_t)\n",
    "            \n",
    "            \n",
    "            # ----------------------------------------------------------------------------------- #\n",
    "            # ----------------------------------------------------------------------------------- #\n",
    "            # Decoder\n",
    "            # 对应公式 (6) 的第二部分, 从 z 和 h 中共同采样的均值和方差\n",
    "            # 去重建 x_t, 重建的时候 我们用 Encoder 采样得来的 z 和 hidden state 共同去重建 x\n",
    "            # h[-1] (对应的是h 的第三个维度，也就是 h_dim)\n",
    "            dec_t = self.dec(torch.cat([phi_z_t, h[-1]], 1))\n",
    "            dec_mean_t = self.dec_mean(dec_t)\n",
    "            dec_std_t = self.dec_std(dec_t)\n",
    "\n",
    "            # ----------------------------------------------------------------------------------- #\n",
    "            # ----------------------------------------------------------------------------------- #\n",
    "            \n",
    "            # Recurrence\n",
    "            # 这里开始使用 Recurrent Neural Network 来更新中间隐藏层\n",
    "            # 公式 (7)\n",
    "            _, h = self.rnn(torch.cat([phi_x_t, phi_z_t],1).unsqueeze(0), h)\n",
    "\n",
    "            \n",
    "            # Computing the loss\n",
    "            # KL 散度计算的是 Encoder 采样出来的 z 和 先验的 z （也就是从h里面得到的z）\n",
    "            kld_loss += self._kld_gauss(enc_mean_t, enc_std_t, prior_mean_t, prior_std_t)\n",
    "            #nll_loss += self._nll_gauss(dec_mean_t, dec_std_t, x[t])\n",
    "            nll_loss += self._nll_bernoulli(dec_mean_t, x[t])\n",
    "\n",
    "            all_enc_std.append(enc_std_t)\n",
    "            all_enc_mean.append(enc_mean_t)\n",
    "            all_dec_mean.append(dec_mean_t)\n",
    "            all_dec_std.append(dec_std_t)\n",
    "            \n",
    "        return kld_loss, nll_loss, \\\n",
    "            (all_enc_mean, all_enc_std), \\\n",
    "            (all_dec_mean, all_dec_std)\n",
    "    \n",
    "    def sample(self, seq_len):\n",
    "        sample = torch.zeros(seq_len, self.x_dim, device=device)\n",
    "        \n",
    "        h = torch.zeros(self.n_layers, 1, self.h_dim, device=device)\n",
    "        for t in range(seq_len):\n",
    "            \n",
    "            # prior\n",
    "            prior_t = self.prior(h[-1])\n",
    "            prior_mean_t = self.prior_mean(prior_t)\n",
    "            prior_std_t = self.prior_std(prior_t)\n",
    "            \n",
    "            # Sampling and reparameterization\n",
    "            z_t = self._reparameterized_sample(prior_mean_t, prior_std_t)\n",
    "            phi_z_t = self.phi_z(z_t)\n",
    "            \n",
    "            # decoder\n",
    "            dec_t = self.dec(torch.cat([phi_z_t, h[-1]], 1))\n",
    "            dec_mean_t = self.dec_mean(dec_t)\n",
    "            #dec_std_t = self.dec_std(dec_t)\n",
    "            \n",
    "            phi_x_t = self.phi_x(dec_mean_t)\n",
    "            \n",
    "            # recurrence\n",
    "            _, h = self.rnn(torch.cat([phi_x_t, phi_z_t], 1).unsqueeze(0), h)\n",
    "            \n",
    "            sample[t] = dec_mean_t.data\n",
    "        \n",
    "        return sample\n",
    "    \n",
    "    \n",
    "    def reset_parameters(self, stdv=1e-1):\n",
    "        for weight in self.parameters():\n",
    "            weight.data.normal_(0, stdv)\n",
    "\n",
    "\n",
    "    def _init_weights(self, stdv):\n",
    "        pass\n",
    "\n",
    "\n",
    "    def _reparameterized_sample(self, mean, std):\n",
    "        \"\"\"using std to sample\"\"\"\n",
    "        eps = torch.empty(size=std.size(), device=device, dtype=torch.float).normal_()\n",
    "        return eps.mul(std).add_(mean)\n",
    "    \n",
    "    \n",
    "    def _kld_gauss(self, mean_1, std_1, mean_2, std_2):\n",
    "        \"\"\"Using std to compute KLD\"\"\"\n",
    "\n",
    "        kld_element =  (2 * torch.log(std_2 + EPS) - 2 * torch.log(std_1 + EPS) + \n",
    "            (std_1.pow(2) + (mean_1 - mean_2).pow(2)) /\n",
    "            std_2.pow(2) - 1)\n",
    "        return\t0.5 * torch.sum(kld_element)\n",
    "\n",
    "\n",
    "    def _nll_bernoulli(self, theta, x):\n",
    "        return - torch.sum(x*torch.log(theta + EPS) + (1-x)*torch.log(1-theta-EPS))\n",
    "\n",
    "\n",
    "    def _nll_gauss(self, mean, std, x):\n",
    "        return torch.sum(torch.log(std + EPS) + torch.log(2*torch.pi)/2 + (x - mean).pow(2)/(2*std.pow(2)))"
   ]
  },
  {
   "cell_type": "markdown",
   "metadata": {},
   "source": [
    "### 可以开始训练模型啦"
   ]
  },
  {
   "cell_type": "code",
   "execution_count": 6,
   "metadata": {},
   "outputs": [
    {
     "data": {
      "text/plain": [
       "<matplotlib.pyplot._IonContext at 0x1bbc0563910>"
      ]
     },
     "execution_count": 6,
     "metadata": {},
     "output_type": "execute_result"
    }
   ],
   "source": [
    "# Device difinition\n",
    "if torch.cuda.is_available():\n",
    "    device = torch.device('cuda')\n",
    "    torch.cuda.empty_cache()\n",
    "else:\n",
    "    device = torch.device('cpu')\n",
    "\n",
    "# Hyperparameters\n",
    "x_dim = 28\n",
    "h_dim = 100\n",
    "z_dim = 16\n",
    "n_layers = 1\n",
    "n_epochs = 25\n",
    "clip = 10\n",
    "learning_rate = 1e-3\n",
    "batch_size = 8 # 128\n",
    "seed = 128\n",
    "print_every = 1000 # batches\n",
    "save_every = 10    # epochs\n",
    "\n",
    "# Manual seed\n",
    "torch.manual_seed(seed)\n",
    "plt.ion()"
   ]
  },
  {
   "cell_type": "code",
   "execution_count": 7,
   "metadata": {},
   "outputs": [
    {
     "name": "stdout",
     "output_type": "stream",
     "text": [
      "Downloading http://yann.lecun.com/exdb/mnist/train-images-idx3-ubyte.gz\n",
      "Downloading http://yann.lecun.com/exdb/mnist/train-images-idx3-ubyte.gz to data\\MNIST\\raw\\train-images-idx3-ubyte.gz\n"
     ]
    },
    {
     "data": {
      "application/vnd.jupyter.widget-view+json": {
       "model_id": "1d429b0e0bb541c189f605a9b8ce643e",
       "version_major": 2,
       "version_minor": 0
      },
      "text/plain": [
       "  0%|          | 0/9912422 [00:00<?, ?it/s]"
      ]
     },
     "metadata": {},
     "output_type": "display_data"
    },
    {
     "name": "stdout",
     "output_type": "stream",
     "text": [
      "Extracting data\\MNIST\\raw\\train-images-idx3-ubyte.gz to data\\MNIST\\raw\n",
      "\n",
      "Downloading http://yann.lecun.com/exdb/mnist/train-labels-idx1-ubyte.gz\n",
      "Downloading http://yann.lecun.com/exdb/mnist/train-labels-idx1-ubyte.gz to data\\MNIST\\raw\\train-labels-idx1-ubyte.gz\n"
     ]
    },
    {
     "data": {
      "application/vnd.jupyter.widget-view+json": {
       "model_id": "86f66fa0d3e24aaeaa6820dc5c623ef8",
       "version_major": 2,
       "version_minor": 0
      },
      "text/plain": [
       "  0%|          | 0/28881 [00:00<?, ?it/s]"
      ]
     },
     "metadata": {},
     "output_type": "display_data"
    },
    {
     "name": "stdout",
     "output_type": "stream",
     "text": [
      "Extracting data\\MNIST\\raw\\train-labels-idx1-ubyte.gz to data\\MNIST\\raw\n",
      "\n",
      "Downloading http://yann.lecun.com/exdb/mnist/t10k-images-idx3-ubyte.gz\n",
      "Downloading http://yann.lecun.com/exdb/mnist/t10k-images-idx3-ubyte.gz to data\\MNIST\\raw\\t10k-images-idx3-ubyte.gz\n"
     ]
    },
    {
     "data": {
      "application/vnd.jupyter.widget-view+json": {
       "model_id": "77c725f15e7f43e8b4f469b445c05f4c",
       "version_major": 2,
       "version_minor": 0
      },
      "text/plain": [
       "  0%|          | 0/1648877 [00:00<?, ?it/s]"
      ]
     },
     "metadata": {},
     "output_type": "display_data"
    },
    {
     "name": "stdout",
     "output_type": "stream",
     "text": [
      "Extracting data\\MNIST\\raw\\t10k-images-idx3-ubyte.gz to data\\MNIST\\raw\n",
      "\n",
      "Downloading http://yann.lecun.com/exdb/mnist/t10k-labels-idx1-ubyte.gz\n",
      "Downloading http://yann.lecun.com/exdb/mnist/t10k-labels-idx1-ubyte.gz to data\\MNIST\\raw\\t10k-labels-idx1-ubyte.gz\n"
     ]
    },
    {
     "data": {
      "application/vnd.jupyter.widget-view+json": {
       "model_id": "2b2a0cfa9e494018ad56b59cc4ad11eb",
       "version_major": 2,
       "version_minor": 0
      },
      "text/plain": [
       "  0%|          | 0/4542 [00:00<?, ?it/s]"
      ]
     },
     "metadata": {},
     "output_type": "display_data"
    },
    {
     "name": "stdout",
     "output_type": "stream",
     "text": [
      "Extracting data\\MNIST\\raw\\t10k-labels-idx1-ubyte.gz to data\\MNIST\\raw\n",
      "\n"
     ]
    }
   ],
   "source": [
    "train_loader = torch.utils.data.DataLoader(\n",
    "    datasets.MNIST('data', train=True, download=True,\n",
    "        transform=transforms.ToTensor()),\n",
    "    batch_size=batch_size, shuffle=True)\n",
    "\n",
    "test_loader = torch.utils.data.DataLoader(\n",
    "    datasets.MNIST('data', train=False, \n",
    "        transform=transforms.ToTensor()),\n",
    "    batch_size=batch_size, shuffle=True)\n",
    "\n",
    "model = VRNN(x_dim, h_dim, z_dim, n_layers)\n",
    "model = model.to(device)\n",
    "optimizer = torch.optim.Adam(model.parameters(), lr=learning_rate)\n",
    "\n",
    "sample_data = next(iter(train_loader))\n",
    "sample_data[0].shape # torch.Size([8, 1, 28, 28])\n",
    "sample_data[1].shape # torch.Size([8])\n",
    "\n",
    "(data, _) = sample_data\n",
    "data = data.to(device)\n",
    "data = data.squeeze().transpose(0,1) # torch.Size([28, 8, 28])\n"
   ]
  },
  {
   "cell_type": "code",
   "execution_count": 8,
   "metadata": {},
   "outputs": [],
   "source": [
    "def train(epoch):\n",
    "    train_loss = 0\n",
    "    for batch_idx, (data, _) in enumerate(train_loader):\n",
    "\n",
    "        #transforming data\n",
    "        data = data.to(device)\n",
    "        data = data.squeeze().transpose(0, 1) # (seq, batch, elem)\n",
    "        data = (data - data.min()) / (data.max() - data.min())\n",
    "        \n",
    "        #forward + backward + optimize\n",
    "        optimizer.zero_grad()\n",
    "        kld_loss, nll_loss, _, _ = model(data)\n",
    "        loss = kld_loss + nll_loss\n",
    "        loss.backward()\n",
    "        optimizer.step()\n",
    "\n",
    "        #grad norm clipping, only in pytorch version >= 1.10\n",
    "        nn.utils.clip_grad_norm_(model.parameters(), clip)\n",
    "\n",
    "        #printing\n",
    "        if batch_idx % print_every == 0:\n",
    "            print('Train Epoch: {} [{}/{} ({:.0f}%)]\\t KLD Loss: {:.6f} \\t NLL Loss: {:.6f}'.format(\n",
    "                epoch, batch_idx * batch_size, batch_size * (len(train_loader.dataset)//batch_size),\n",
    "                100. * batch_idx / len(train_loader),\n",
    "                kld_loss / batch_size,\n",
    "                nll_loss / batch_size))\n",
    "            \n",
    "            sample = model.sample(torch.tensor(28, device=device))\n",
    "            plt.imshow(sample.to(torch.device('cpu')).numpy())\n",
    "            plt.pause(1e-6)\n",
    "\n",
    "        train_loss += loss.item()\n",
    "\n",
    "    print('====> Epoch: {} Average loss: {:.4f}'.format(\n",
    "        epoch, train_loss / len(train_loader.dataset)))\n",
    "    \n",
    "\n",
    "def test(epoch):\n",
    "    \"\"\"uses test data to evaluate \n",
    "    likelihood of the model\"\"\"\n",
    "\n",
    "    mean_kld_loss, mean_nll_loss = 0, 0\n",
    "    with torch.no_grad():\n",
    "        for i, (data, _) in enumerate(test_loader):                                            \n",
    "\n",
    "            data = data.to(device)\n",
    "            data = data.squeeze().transpose(0, 1)\n",
    "            data = (data - data.min()) / (data.max() - data.min())\n",
    "\n",
    "            kld_loss, nll_loss, _, _ = model(data)\n",
    "            mean_kld_loss += kld_loss.item()\n",
    "            mean_nll_loss += nll_loss.item()\n",
    "\n",
    "    mean_kld_loss /= len(test_loader.dataset)\n",
    "    mean_nll_loss /= len(test_loader.dataset)\n",
    "    \n",
    "    print('====> Test set loss: KLD Loss = {:.4f}, NLL Loss = {:.4f} '.format(\n",
    "        mean_kld_loss, mean_nll_loss))"
   ]
  },
  {
   "cell_type": "code",
   "execution_count": 11,
   "metadata": {},
   "outputs": [
    {
     "name": "stdout",
     "output_type": "stream",
     "text": [
      "Train Epoch: 1 [0/60000 (0%)]\t KLD Loss: 7.729406 \t NLL Loss: 544.679443\n"
     ]
    },
    {
     "data": {
      "image/png": "[encoded data removed]",
      "text/plain": [
       "<Figure size 432x288 with 1 Axes>"
      ]
     },
     "metadata": {
      "needs_background": "light"
     },
     "output_type": "display_data"
    },
    {
     "ename": "KeyboardInterrupt",
     "evalue": "",
     "output_type": "error",
     "traceback": [
      "\u001b[1;31m---------------------------------------------------------------------------\u001b[0m",
      "\u001b[1;31mKeyboardInterrupt\u001b[0m                         Traceback (most recent call last)",
      "\u001b[1;32md:\\学习\\生成模型\\VRNN\\VRNN.ipynb Cell 8\u001b[0m in \u001b[0;36m<cell line: 1>\u001b[1;34m()\u001b[0m\n\u001b[0;32m      <a href='vscode-notebook-cell:/d%3A/%E5%AD%A6%E4%B9%A0/%E7%94%9F%E6%88%90%E6%A8%A1%E5%9E%8B/VRNN/VRNN.ipynb#X11sZmlsZQ%3D%3D?line=0'>1</a>\u001b[0m \u001b[39mfor\u001b[39;00m epoch \u001b[39min\u001b[39;00m \u001b[39mrange\u001b[39m(\u001b[39m1\u001b[39m, n_epochs \u001b[39m+\u001b[39m \u001b[39m1\u001b[39m):\n\u001b[0;32m      <a href='vscode-notebook-cell:/d%3A/%E5%AD%A6%E4%B9%A0/%E7%94%9F%E6%88%90%E6%A8%A1%E5%9E%8B/VRNN/VRNN.ipynb#X11sZmlsZQ%3D%3D?line=1'>2</a>\u001b[0m \n\u001b[0;32m      <a href='vscode-notebook-cell:/d%3A/%E5%AD%A6%E4%B9%A0/%E7%94%9F%E6%88%90%E6%A8%A1%E5%9E%8B/VRNN/VRNN.ipynb#X11sZmlsZQ%3D%3D?line=2'>3</a>\u001b[0m     \u001b[39m#training + testing\u001b[39;00m\n\u001b[1;32m----> <a href='vscode-notebook-cell:/d%3A/%E5%AD%A6%E4%B9%A0/%E7%94%9F%E6%88%90%E6%A8%A1%E5%9E%8B/VRNN/VRNN.ipynb#X11sZmlsZQ%3D%3D?line=3'>4</a>\u001b[0m     train(epoch)\n\u001b[0;32m      <a href='vscode-notebook-cell:/d%3A/%E5%AD%A6%E4%B9%A0/%E7%94%9F%E6%88%90%E6%A8%A1%E5%9E%8B/VRNN/VRNN.ipynb#X11sZmlsZQ%3D%3D?line=4'>5</a>\u001b[0m     test(epoch)\n\u001b[0;32m      <a href='vscode-notebook-cell:/d%3A/%E5%AD%A6%E4%B9%A0/%E7%94%9F%E6%88%90%E6%A8%A1%E5%9E%8B/VRNN/VRNN.ipynb#X11sZmlsZQ%3D%3D?line=6'>7</a>\u001b[0m     \u001b[39m#saving model\u001b[39;00m\n",
      "\u001b[1;32md:\\学习\\生成模型\\VRNN\\VRNN.ipynb Cell 8\u001b[0m in \u001b[0;36mtrain\u001b[1;34m(epoch)\u001b[0m\n\u001b[0;32m     <a href='vscode-notebook-cell:/d%3A/%E5%AD%A6%E4%B9%A0/%E7%94%9F%E6%88%90%E6%A8%A1%E5%9E%8B/VRNN/VRNN.ipynb#X11sZmlsZQ%3D%3D?line=9'>10</a>\u001b[0m \u001b[39m#forward + backward + optimize\u001b[39;00m\n\u001b[0;32m     <a href='vscode-notebook-cell:/d%3A/%E5%AD%A6%E4%B9%A0/%E7%94%9F%E6%88%90%E6%A8%A1%E5%9E%8B/VRNN/VRNN.ipynb#X11sZmlsZQ%3D%3D?line=10'>11</a>\u001b[0m optimizer\u001b[39m.\u001b[39mzero_grad()\n\u001b[1;32m---> <a href='vscode-notebook-cell:/d%3A/%E5%AD%A6%E4%B9%A0/%E7%94%9F%E6%88%90%E6%A8%A1%E5%9E%8B/VRNN/VRNN.ipynb#X11sZmlsZQ%3D%3D?line=11'>12</a>\u001b[0m kld_loss, nll_loss, _, _ \u001b[39m=\u001b[39m model(data)\n\u001b[0;32m     <a href='vscode-notebook-cell:/d%3A/%E5%AD%A6%E4%B9%A0/%E7%94%9F%E6%88%90%E6%A8%A1%E5%9E%8B/VRNN/VRNN.ipynb#X11sZmlsZQ%3D%3D?line=12'>13</a>\u001b[0m loss \u001b[39m=\u001b[39m kld_loss \u001b[39m+\u001b[39m nll_loss\n\u001b[0;32m     <a href='vscode-notebook-cell:/d%3A/%E5%AD%A6%E4%B9%A0/%E7%94%9F%E6%88%90%E6%A8%A1%E5%9E%8B/VRNN/VRNN.ipynb#X11sZmlsZQ%3D%3D?line=13'>14</a>\u001b[0m loss\u001b[39m.\u001b[39mbackward()\n",
      "File \u001b[1;32md:\\Anaconda\\condafiles\\envs\\torch1\\lib\\site-packages\\torch\\nn\\modules\\module.py:1110\u001b[0m, in \u001b[0;36mModule._call_impl\u001b[1;34m(self, *input, **kwargs)\u001b[0m\n\u001b[0;32m   1106\u001b[0m \u001b[39m# If we don't have any hooks, we want to skip the rest of the logic in\u001b[39;00m\n\u001b[0;32m   1107\u001b[0m \u001b[39m# this function, and just call forward.\u001b[39;00m\n\u001b[0;32m   1108\u001b[0m \u001b[39mif\u001b[39;00m \u001b[39mnot\u001b[39;00m (\u001b[39mself\u001b[39m\u001b[39m.\u001b[39m_backward_hooks \u001b[39mor\u001b[39;00m \u001b[39mself\u001b[39m\u001b[39m.\u001b[39m_forward_hooks \u001b[39mor\u001b[39;00m \u001b[39mself\u001b[39m\u001b[39m.\u001b[39m_forward_pre_hooks \u001b[39mor\u001b[39;00m _global_backward_hooks\n\u001b[0;32m   1109\u001b[0m         \u001b[39mor\u001b[39;00m _global_forward_hooks \u001b[39mor\u001b[39;00m _global_forward_pre_hooks):\n\u001b[1;32m-> 1110\u001b[0m     \u001b[39mreturn\u001b[39;00m forward_call(\u001b[39m*\u001b[39;49m\u001b[39minput\u001b[39;49m, \u001b[39m*\u001b[39;49m\u001b[39m*\u001b[39;49mkwargs)\n\u001b[0;32m   1111\u001b[0m \u001b[39m# Do not call functions when jit is used\u001b[39;00m\n\u001b[0;32m   1112\u001b[0m full_backward_hooks, non_full_backward_hooks \u001b[39m=\u001b[39m [], []\n",
      "\u001b[1;32md:\\学习\\生成模型\\VRNN\\VRNN.ipynb Cell 8\u001b[0m in \u001b[0;36mVRNN.forward\u001b[1;34m(self, x)\u001b[0m\n\u001b[0;32m    <a href='vscode-notebook-cell:/d%3A/%E5%AD%A6%E4%B9%A0/%E7%94%9F%E6%88%90%E6%A8%A1%E5%9E%8B/VRNN/VRNN.ipynb#X11sZmlsZQ%3D%3D?line=130'>131</a>\u001b[0m _, h \u001b[39m=\u001b[39m \u001b[39mself\u001b[39m\u001b[39m.\u001b[39mrnn(torch\u001b[39m.\u001b[39mcat([phi_x_t, phi_z_t],\u001b[39m1\u001b[39m)\u001b[39m.\u001b[39munsqueeze(\u001b[39m0\u001b[39m), h)\n\u001b[0;32m    <a href='vscode-notebook-cell:/d%3A/%E5%AD%A6%E4%B9%A0/%E7%94%9F%E6%88%90%E6%A8%A1%E5%9E%8B/VRNN/VRNN.ipynb#X11sZmlsZQ%3D%3D?line=133'>134</a>\u001b[0m \u001b[39m# Computing the loss\u001b[39;00m\n\u001b[0;32m    <a href='vscode-notebook-cell:/d%3A/%E5%AD%A6%E4%B9%A0/%E7%94%9F%E6%88%90%E6%A8%A1%E5%9E%8B/VRNN/VRNN.ipynb#X11sZmlsZQ%3D%3D?line=134'>135</a>\u001b[0m \u001b[39m# KL 散度计算的是 Encoder 采样出来的 z 和 先验的 z （也就是从h里面得到的z）\u001b[39;00m\n\u001b[1;32m--> <a href='vscode-notebook-cell:/d%3A/%E5%AD%A6%E4%B9%A0/%E7%94%9F%E6%88%90%E6%A8%A1%E5%9E%8B/VRNN/VRNN.ipynb#X11sZmlsZQ%3D%3D?line=135'>136</a>\u001b[0m kld_loss \u001b[39m+\u001b[39m\u001b[39m=\u001b[39m \u001b[39mself\u001b[39;49m\u001b[39m.\u001b[39;49m_kld_gauss(enc_mean_t, enc_std_t, prior_mean_t, prior_std_t)\n\u001b[0;32m    <a href='vscode-notebook-cell:/d%3A/%E5%AD%A6%E4%B9%A0/%E7%94%9F%E6%88%90%E6%A8%A1%E5%9E%8B/VRNN/VRNN.ipynb#X11sZmlsZQ%3D%3D?line=136'>137</a>\u001b[0m \u001b[39m#nll_loss += self._nll_gauss(dec_mean_t, dec_std_t, x[t])\u001b[39;00m\n\u001b[0;32m    <a href='vscode-notebook-cell:/d%3A/%E5%AD%A6%E4%B9%A0/%E7%94%9F%E6%88%90%E6%A8%A1%E5%9E%8B/VRNN/VRNN.ipynb#X11sZmlsZQ%3D%3D?line=137'>138</a>\u001b[0m nll_loss \u001b[39m+\u001b[39m\u001b[39m=\u001b[39m \u001b[39mself\u001b[39m\u001b[39m.\u001b[39m_nll_bernoulli(dec_mean_t, x[t])\n",
      "\u001b[1;32md:\\学习\\生成模型\\VRNN\\VRNN.ipynb Cell 8\u001b[0m in \u001b[0;36mVRNN._kld_gauss\u001b[1;34m(self, mean_1, std_1, mean_2, std_2)\u001b[0m\n\u001b[0;32m    <a href='vscode-notebook-cell:/d%3A/%E5%AD%A6%E4%B9%A0/%E7%94%9F%E6%88%90%E6%A8%A1%E5%9E%8B/VRNN/VRNN.ipynb#X11sZmlsZQ%3D%3D?line=193'>194</a>\u001b[0m \u001b[39mdef\u001b[39;00m \u001b[39m_kld_gauss\u001b[39m(\u001b[39mself\u001b[39m, mean_1, std_1, mean_2, std_2):\n\u001b[0;32m    <a href='vscode-notebook-cell:/d%3A/%E5%AD%A6%E4%B9%A0/%E7%94%9F%E6%88%90%E6%A8%A1%E5%9E%8B/VRNN/VRNN.ipynb#X11sZmlsZQ%3D%3D?line=194'>195</a>\u001b[0m     \u001b[39m\"\"\"Using std to compute KLD\"\"\"\u001b[39;00m\n\u001b[1;32m--> <a href='vscode-notebook-cell:/d%3A/%E5%AD%A6%E4%B9%A0/%E7%94%9F%E6%88%90%E6%A8%A1%E5%9E%8B/VRNN/VRNN.ipynb#X11sZmlsZQ%3D%3D?line=196'>197</a>\u001b[0m     kld_element \u001b[39m=\u001b[39m  (\u001b[39m2\u001b[39;49m \u001b[39m*\u001b[39;49m torch\u001b[39m.\u001b[39;49mlog(std_2 \u001b[39m+\u001b[39;49m EPS) \u001b[39m-\u001b[39;49m \u001b[39m2\u001b[39;49m \u001b[39m*\u001b[39;49m torch\u001b[39m.\u001b[39;49mlog(std_1 \u001b[39m+\u001b[39;49m EPS) \u001b[39m+\u001b[39m \n\u001b[0;32m    <a href='vscode-notebook-cell:/d%3A/%E5%AD%A6%E4%B9%A0/%E7%94%9F%E6%88%90%E6%A8%A1%E5%9E%8B/VRNN/VRNN.ipynb#X11sZmlsZQ%3D%3D?line=197'>198</a>\u001b[0m         (std_1\u001b[39m.\u001b[39mpow(\u001b[39m2\u001b[39m) \u001b[39m+\u001b[39m (mean_1 \u001b[39m-\u001b[39m mean_2)\u001b[39m.\u001b[39mpow(\u001b[39m2\u001b[39m)) \u001b[39m/\u001b[39m\n\u001b[0;32m    <a href='vscode-notebook-cell:/d%3A/%E5%AD%A6%E4%B9%A0/%E7%94%9F%E6%88%90%E6%A8%A1%E5%9E%8B/VRNN/VRNN.ipynb#X11sZmlsZQ%3D%3D?line=198'>199</a>\u001b[0m         std_2\u001b[39m.\u001b[39mpow(\u001b[39m2\u001b[39m) \u001b[39m-\u001b[39m \u001b[39m1\u001b[39m)\n\u001b[0;32m    <a href='vscode-notebook-cell:/d%3A/%E5%AD%A6%E4%B9%A0/%E7%94%9F%E6%88%90%E6%A8%A1%E5%9E%8B/VRNN/VRNN.ipynb#X11sZmlsZQ%3D%3D?line=199'>200</a>\u001b[0m     \u001b[39mreturn\u001b[39;00m\t\u001b[39m0.5\u001b[39m \u001b[39m*\u001b[39m torch\u001b[39m.\u001b[39msum(kld_element)\n",
      "\u001b[1;31mKeyboardInterrupt\u001b[0m: "
     ]
    }
   ],
   "source": [
    "for epoch in range(1, n_epochs + 1):\n",
    "\n",
    "    #training + testing\n",
    "    train(epoch)\n",
    "    test(epoch)\n",
    "\n",
    "    #saving model\n",
    "    if epoch % save_every == 1:\n",
    "        fn = 'saves/vrnn_state_dict_'+str(epoch)+'.pth'\n",
    "        torch.save(model.state_dict(), fn)\n",
    "        print('Saved model to '+fn)"
   ]
  },
  {
   "cell_type": "code",
   "execution_count": 9,
   "metadata": {},
   "outputs": [
    {
     "data": {
      "image/png": "[encoded data removed]",
      "text/plain": [
       "<Figure size 432x288 with 1 Axes>"
      ]
     },
     "metadata": {
      "needs_background": "light"
     },
     "output_type": "display_data"
    }
   ],
   "source": [
    "#hyperparameters\n",
    "x_dim = 28\n",
    "h_dim = 100\n",
    "z_dim = 16\n",
    "n_layers =  1\n",
    "\n",
    "device = torch.device('cuda') if torch.cuda.is_available() else torch.device('cpu')\n",
    "\n",
    "\n",
    "state_dict = torch.load('saves/vrnn_state_dict_41.pth')\n",
    "model = VRNN(x_dim, h_dim, z_dim, n_layers)\n",
    "model.load_state_dict(state_dict)\n",
    "model.to(device)\n",
    "\n",
    "sample = model.sample(28*6)\n",
    "plt.imshow(sample.cpu().numpy(), cmap='gray')\n",
    "plt.show()\n"
   ]
  },
  {
   "cell_type": "code",
   "execution_count": null,
   "metadata": {},
   "outputs": [],
   "source": []
  }
 ],
 "metadata": {
  "kernelspec": {
   "display_name": "Python 3.8.12 ('torch1')",
   "language": "python",
   "name": "python3"
  },
  "language_info": {
   "codemirror_mode": {
    "name": "ipython",
    "version": 3
   },
   "file_extension": ".py",
   "mimetype": "text/x-python",
   "name": "python",
   "nbconvert_exporter": "python",
   "pygments_lexer": "ipython3",
   "version": "3.8.12"
  },
  "orig_nbformat": 4,
  "vscode": {
   "interpreter": {
    "hash": "644c6c69c3445bff11595a7384ce7a4ac998fc7544c89bb4625760e004825899"
   }
  }
 },
 "nbformat": 4,
 "nbformat_minor": 2
}
